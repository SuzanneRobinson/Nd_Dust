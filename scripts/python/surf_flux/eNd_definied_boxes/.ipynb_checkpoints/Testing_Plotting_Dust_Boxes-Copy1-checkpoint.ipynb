{
 "cells": [
  {
   "cell_type": "markdown",
   "metadata": {
    "deletable": true,
    "editable": true
   },
   "source": [
    "# A script to plot a map of the boxes of dust flux with land sea mask"
   ]
  },
  {
   "cell_type": "markdown",
   "metadata": {
    "deletable": true,
    "editable": true
   },
   "source": [
    "## Loading the netCDF file with the distinct boxes in the ocean and the land-sea mask "
   ]
  },
  {
   "cell_type": "code",
   "execution_count": 1,
   "metadata": {
    "collapsed": false,
    "deletable": true,
    "editable": true
   },
   "outputs": [],
   "source": [
    "# load packages\n",
    "\n",
    "%matplotlib inline\n",
    "import matplotlib.pyplot as plt # side-stepping mpl backend\n",
    "import matplotlib.gridspec as gridspec # subplots\n",
    "from matplotlib import colors as mcolors\n",
    "\n",
    "import iris\n",
    "import iris.plot as iplt\n",
    "import iris.quickplot as qplt\n",
    "#plt.interactive(True)\n",
    "\n",
    "import numpy as np\n",
    "import pandas as pd\n",
    "\n",
    "import cf_units as unit\n",
    "\n",
    "#iris.FUTURE.netcdf_promote=True"
   ]
  },
  {
   "cell_type": "code",
   "execution_count": 2,
   "metadata": {
    "collapsed": false,
    "deletable": true,
    "editable": true
   },
   "outputs": [
    {
     "name": "stdout",
     "output_type": "stream",
     "text": [
      "0: background_Epsilon_Nd / (1)         (time: 1; depth: 1; latitude: 73; longitude: 98)\n"
     ]
    },
    {
     "name": "stderr",
     "output_type": "stream",
     "text": [
      "/apps/developers/libraries/python-libs/1.6/1/bit-64-canopy-2.1.3/lib/iris/fileformats/cf.py:1143: IrisDeprecation: NetCDF default loading behaviour currently does not expose variables which define reference surfaces for dimensionless vertical coordinates as independent Cubes. This behaviour is deprecated in favour of automatic promotion to Cubes. To switch to the new behaviour, set iris.FUTURE.netcdf_promote to True.\n",
      "  warn_deprecated(msg)\n",
      "/apps/developers/libraries/python-libs/1.6/1/bit-64-canopy-2.1.3/lib/iris/fileformats/_pyke_rules/compiled_krb/fc_rules_cf_fc.py:1906: UserWarning: Gracefully filling 'depth' dimension coordinate masked points\n",
      "  warnings.warn(msg.format(str(cf_coord_var.cf_name)))\n",
      "/apps/developers/libraries/python-libs/1.6/1/bit-64-canopy-2.1.3/lib/iris/fileformats/_pyke_rules/compiled_krb/fc_rules_cf_fc.py:1811: UserWarning: Ignoring netCDF variable u'time' invalid units u'days since 0000-01-01 00:00.00'\n",
      "  warnings.warn(msg.encode('ascii', errors='backslashreplace'))\n",
      "/apps/developers/libraries/python-libs/1.6/1/bit-64-canopy-2.1.3/lib/iris/fileformats/_pyke_rules/compiled_krb/fc_rules_cf_fc.py:1906: UserWarning: Gracefully filling 'time' dimension coordinate masked points\n",
      "  warnings.warn(msg.format(str(cf_coord_var.cf_name)))\n"
     ]
    }
   ],
   "source": [
    "\n",
    "fname = '/nfs/see-fs-01_users/ee14s2r/working/surf_files/eNd_dust_mask/dust_boxes_eNd2.nc'\n",
    "\n",
    "cube=iris.load(fname)\n",
    "\n",
    "\n",
    "##print the cubes, this shows the list of cubes and their indexing \n",
    "print(cube)\n",
    "\n",
    "\n",
    "# Using cube[0] \n",
    "#N_Atlantic= cube[4][:,:,:,:]\n",
    "#Atlantic= cube[0][:,:,:,:]\n",
    "#N_Pacific = cube[1][:,:,:,:]\n",
    "#I_Pacific = cube[2][:,:,:,:]\n",
    "Background = cube[0][:,:,:,:]\n",
    "\n",
    "\n",
    "#time,depth,latitude,longitude=N_Atlantic.shape\n",
    "#time,depth,latitude,longitude=Atlantic.shape\n",
    "#time,depth,latitude,longitude=N_Pacific.shape\n",
    "#time,depth,latitude,longitude=I_Pacific.shape\n",
    "time,depth,latitude,longitude=Background.shape\n",
    "\n",
    "#print N_Atlantic.shape\n",
    "#print I_Pacific.shape\n",
    "#print Background.shape"
   ]
  },
  {
   "cell_type": "code",
   "execution_count": 3,
   "metadata": {
    "collapsed": false,
    "deletable": true,
    "editable": true
   },
   "outputs": [
    {
     "name": "stdout",
     "output_type": "stream",
     "text": [
      "background_Epsilon_Nd / (1)         (time: 1)\n",
      "     Dimension coordinates:\n",
      "          time                           x\n",
      "     Scalar coordinates:\n",
      "          depth: -2147483647 m\n",
      "          latitude: 50.0 degrees\n",
      "          longitude: 187.5 degrees\n"
     ]
    }
   ],
   "source": [
    "#print(Atlantic[:,:])\n",
    "print(Background[:,0,56,50])"
   ]
  },
  {
   "cell_type": "code",
   "execution_count": 4,
   "metadata": {
    "collapsed": false,
    "deletable": true,
    "editable": true
   },
   "outputs": [
    {
     "data": {
      "text/plain": [
       "<matplotlib.contour.QuadContourSet at 0x2b71885bd650>"
      ]
     },
     "execution_count": 4,
     "metadata": {},
     "output_type": "execute_result"
    },
    {
     "data": {
      "image/png": "[encoded data removed]",
      "text/plain": [
       "<matplotlib.figure.Figure at 0x2b7160667950>"
      ]
     },
     "metadata": {},
     "output_type": "display_data"
    }
   ],
   "source": [
    "qplt.contourf(Background[0,0,:,:])"
   ]
  },
  {
   "cell_type": "code",
   "execution_count": 5,
   "metadata": {
    "collapsed": false,
    "deletable": true,
    "editable": true
   },
   "outputs": [
    {
     "name": "stderr",
     "output_type": "stream",
     "text": [
      "/apps/developers/compilers/canopy2/2.1.3/1/bit-64/Canopy/edm/envs/User/lib/python2.7/site-packages/matplotlib/figure.py:402: UserWarning: matplotlib is currently using a non-GUI backend, so cannot show the figure\n",
      "  \"matplotlib is currently using a non-GUI backend, \"\n"
     ]
    },
    {
     "data": {
      "image/png": "[encoded data removed]",
      "text/plain": [
       "<matplotlib.figure.Figure at 0x2b7181a83f90>"
      ]
     },
     "metadata": {},
     "output_type": "display_data"
    }
   ],
   "source": [
    "import matplotlib as mpl\n",
    "\n",
    "fig, ax = plt.subplots(figsize=(6, 1))\n",
    "fig.subplots_adjust(bottom=0.5)\n",
    "\n",
    "cmap = mpl.cm.gist_rainbow#cool\n",
    "norm = mpl.colors.Normalize(vmin=-15.0, vmax=-5.0)\n",
    "\n",
    "cb1 = mpl.colorbar.ColorbarBase(ax, cmap=cmap,\n",
    "                                norm=norm,\n",
    "                                orientation='horizontal')\n",
    "cb1.set_label('${\\epsilon}$Nd')\n",
    "fig.show()"
   ]
  },
  {
   "cell_type": "code",
   "execution_count": 6,
   "metadata": {
    "collapsed": false,
    "deletable": true,
    "editable": true
   },
   "outputs": [
    {
     "ename": "NameError",
     "evalue": "name 'N_Atlantic' is not defined",
     "output_type": "error",
     "traceback": [
      "\u001b[0;31m---------------------------------------------------------------------------\u001b[0m",
      "\u001b[0;31mNameError\u001b[0m                                 Traceback (most recent call last)",
      "\u001b[0;32m<ipython-input-6-a1e1335c5263>\u001b[0m in \u001b[0;36m<module>\u001b[0;34m()\u001b[0m\n\u001b[1;32m      7\u001b[0m \u001b[0;31m# any special behaviour for these.\u001b[0m\u001b[0;34m\u001b[0m\u001b[0;34m\u001b[0m\u001b[0m\n\u001b[1;32m      8\u001b[0m \u001b[0;34m\u001b[0m\u001b[0m\n\u001b[0;32m----> 9\u001b[0;31m \u001b[0mqplt\u001b[0m\u001b[0;34m.\u001b[0m\u001b[0mcontourf\u001b[0m\u001b[0;34m(\u001b[0m\u001b[0mN_Atlantic\u001b[0m\u001b[0;34m[\u001b[0m\u001b[0;36m0\u001b[0m\u001b[0;34m,\u001b[0m\u001b[0;36m0\u001b[0m\u001b[0;34m,\u001b[0m\u001b[0;34m:\u001b[0m\u001b[0;34m,\u001b[0m\u001b[0;34m:\u001b[0m\u001b[0;34m]\u001b[0m\u001b[0;34m,\u001b[0m \u001b[0mbrewer_cmap\u001b[0m\u001b[0;34m.\u001b[0m\u001b[0mN\u001b[0m\u001b[0;34m,\u001b[0m \u001b[0mcmap\u001b[0m\u001b[0;34m=\u001b[0m\u001b[0mbrewer_cmap\u001b[0m\u001b[0;34m)\u001b[0m\u001b[0;34m\u001b[0m\u001b[0m\n\u001b[0m\u001b[1;32m     10\u001b[0m \u001b[0max\u001b[0m \u001b[0;34m=\u001b[0m \u001b[0mplt\u001b[0m\u001b[0;34m.\u001b[0m\u001b[0mgca\u001b[0m\u001b[0;34m(\u001b[0m\u001b[0;34m)\u001b[0m\u001b[0;34m\u001b[0m\u001b[0m\n\u001b[1;32m     11\u001b[0m \u001b[0max\u001b[0m\u001b[0;34m.\u001b[0m\u001b[0mcoastlines\u001b[0m\u001b[0;34m(\u001b[0m\u001b[0;34m)\u001b[0m\u001b[0;34m\u001b[0m\u001b[0m\n",
      "\u001b[0;31mNameError\u001b[0m: name 'N_Atlantic' is not defined"
     ]
    },
    {
     "data": {
      "text/plain": [
       "<matplotlib.figure.Figure at 0x2b7188ad1a90>"
      ]
     },
     "metadata": {},
     "output_type": "display_data"
    }
   ],
   "source": [
    "plt.figure(figsize=(10, 8))\n",
    "# Get the Purples \"Brewer\" palette.\n",
    "brewer_cmap = plt.get_cmap('brewer_Paired_12')\n",
    "\n",
    "\n",
    "\n",
    "# any special behaviour for these.\n",
    "\n",
    "qplt.contourf(N_Atlantic[0,0,:,:], brewer_cmap.N, cmap=brewer_cmap)\n",
    "ax = plt.gca()\n",
    "ax.coastlines()\n",
    "\n",
    "plt.title('Atlantic Dust Region',fontsize=14)\n",
    "plt.colorbar(label='${\\epsilon}$Nd')\n",
    "\n",
    "#plt.title('Atlantic Dust Region ',fontsize=14)\n",
    "#\\cb.ax.set_ylabel('Nd')\n",
    "\n",
    "\n",
    "#ax.coastlines()\n",
    "\n",
    "plt.show()\n",
    "\n"
   ]
  },
  {
   "cell_type": "code",
   "execution_count": null,
   "metadata": {
    "collapsed": false,
    "deletable": true,
    "editable": true
   },
   "outputs": [],
   "source": [
    "import cartopy.crs as ccrs\n",
    "\n",
    "plt.figure(figsize=(20, 12))\n",
    "\n",
    "plt.subplot(1, 2, 1)\n",
    "iplt.contourf(N_Atlantic[0,0,:,:])\n",
    "plt.title('North Atlantic Dust Region',fontsize=16)\n",
    "plt.set_cmap('brewer_Paired_12')\n",
    "ax = plt.gca()\n",
    "ax.coastlines()\n",
    "\n",
    "#colour bar\n",
    "#cb = plt.colorbar()\n",
    "\n",
    "plt.subplot(1, 2, 2)\n",
    "iplt.contourf(Atlantic[0,0,:,:])\n",
    "plt.title('Atlantic Dust Region',fontsize=16)\n",
    "plt.set_cmap('brewer_Paired_12')\n",
    "ax = plt.gca()\n",
    "ax.coastlines()\n",
    "\n",
    "#colour bar\n",
    "#cb = plt.colorbar()\n",
    "\n",
    "\n",
    "#plt.subplot(1, 2, 3)\n",
    "#iplt.contourf(N_Pacific[0,0,:,:])\n",
    "#plt.title('Pacific eNd')#,fontsize=17)\n",
    "#plt.set_cmap('brewer_Paired_12')\n",
    "#ax = plt.gca()\n",
    "#ax.coastlines()\n",
    "\n",
    "#plt.subplot(1, 2, 2)\n",
    "#qplt.contourf(Atlantic[:,:])\n",
    "#ax = plt.gca()\n",
    "#ax.coastlines()\n",
    "\n",
    "#ax = plt.subplot(1, 2, 2, projection=ccrs.RotatedPole(100, 37))\n",
    "#qplt.contourf(N_Atlantic[:,:], 25)\n",
    "#ax.coastlines()\n",
    "\n",
    "plt.show()"
   ]
  },
  {
   "cell_type": "code",
   "execution_count": null,
   "metadata": {
    "collapsed": false,
    "deletable": true,
    "editable": true
   },
   "outputs": [],
   "source": [
    "plt.figure(figsize=(20, 12))\n",
    "\n",
    "plt.subplot(1, 2, 1)\n",
    "iplt.contourf(N_Pacific[0,0,:,:])\n",
    "plt.title('North Pacific Dust Region',fontsize=16)\n",
    "plt.set_cmap('brewer_Set1_09')#'brewer_Dark2_08')\n",
    "ax = plt.gca()\n",
    "ax.coastlines()\n",
    "\n",
    "plt.subplot(1, 2, 2)\n",
    "iplt.contourf(I_Pacific[0,0,:,:])\n",
    "plt.title('Indo Pacific Dust Region',fontsize=16)\n",
    "plt.set_cmap('brewer_Set1_09')#'brewer_Accent_08')\n",
    "ax = plt.gca()\n",
    "ax.coastlines()\n",
    "\n",
    "#colour bar\n",
    "#cb = plt.colorbar()\n",
    "\n",
    "plt.show()"
   ]
  },
  {
   "cell_type": "code",
   "execution_count": 7,
   "metadata": {
    "collapsed": false,
    "deletable": true,
    "editable": true
   },
   "outputs": [
    {
     "data": {
      "image/png": "[encoded data removed]",
      "text/plain": [
       "<matplotlib.figure.Figure at 0x2b71891db950>"
      ]
     },
     "metadata": {},
     "output_type": "display_data"
    }
   ],
   "source": [
    "plt.figure(figsize=(20, 12))\n",
    "\n",
    "plt.subplot(1, 2, 1)\n",
    "qplt.contourf(Background[0,0,:,:])\n",
    "plt.title('FAMOUS Land-Sea Mask',fontsize=14)\n",
    "plt.set_cmap('brewer_Paired_12') #brewer_RdBu_15')\n",
    "#plt.set_cmap('brewer_Set1_09')\n",
    "ax = plt.gca()\n",
    "#ax.coastlines()\n",
    "\n",
    "\n",
    "\n",
    "ax = plt.gca()\n",
    "\n",
    "#ax.coastlines()\n",
    "\n",
    "plt.show()\n"
   ]
  },
  {
   "cell_type": "code",
   "execution_count": null,
   "metadata": {
    "collapsed": false,
    "deletable": true,
    "editable": true,
    "scrolled": true
   },
   "outputs": [],
   "source": [
    "plt.figure(figsize=(10,5))\n",
    "\n",
    "#iplt.contourf(Atlantic[0,0,:,:])\n",
    "iplt.contourf(N_Atlantic[0,0,:,:])\n",
    "#iplt.contourf(N_Pacific[0,0,:,:])\n",
    "#iplt.contourf(I_Pacific[0,0,:,:])\n",
    "#iplt.contourf(Background[0,0,:,:])\n",
    "\n",
    "plt.gca().coastlines()\n",
    "#plt.set_cmap('bwr')\n",
    "plt.set_cmap('brewer_Set1_09')\n",
    "\n",
    "\n",
    "plt.title('Atlantic eNd',fontsize=17)\n",
    "\n",
    "#colour bar\n",
    "cb = plt.colorbar()\n",
    "\n",
    "\n",
    "#plt.grid(True)\n",
    "#plt.tight_layout()\n",
    "#plt.figure(figsize=(3,4))\n",
    "plt.show()"
   ]
  },
  {
   "cell_type": "code",
   "execution_count": null,
   "metadata": {
    "collapsed": false,
    "deletable": true,
    "editable": true
   },
   "outputs": [],
   "source": [
    "print(Atlantic[:,:,56,80])"
   ]
  },
  {
   "cell_type": "code",
   "execution_count": null,
   "metadata": {
    "collapsed": false,
    "deletable": true,
    "editable": true
   },
   "outputs": [],
   "source": [
    "plt.figure(figsize=(10,5))\n",
    "#iplt.contourf(Background[0,0,:,:])\n",
    "iplt.contourf(Atlantic[0,0,:,:])\n",
    "#|iplt.contourf(N_Atlantic[0,0,:,:])\n",
    "#iplt.contourf(N_Pacific[0,0,:,:])\n",
    "#iplt.contourf(I_Pacific[0,0,:,:])\n",
    "\n",
    "plt.gca().coastlines()\n",
    "#plt.set_cmap('bwr')\n",
    "plt.set_cmap('brewer_Accent_08')\n",
    "\n",
    "plt.title('Background eNd',fontsize=17)\n",
    "\n",
    "#colour bar\n",
    "cb = plt.colorbar()\n",
    "#cb.ax.set_ylabel('log10')\n",
    "\n",
    "plt.grid(True)\n",
    "plt.tight_layout()\n",
    "#plt.figure(figsize=(3,4))\n",
    "plt.show()"
   ]
  },
  {
   "cell_type": "code",
   "execution_count": null,
   "metadata": {
    "collapsed": false,
    "deletable": true,
    "editable": true
   },
   "outputs": [],
   "source": [
    "plt.figure(figsize=(10,5))\n",
    "#iplt.contourf(Background[0,0,:,:])\n",
    "#iplt.contourf(Atlantic[0,0,:,:])\n",
    "#iplt.contourf(N_Atlantic[0,0,:,:])\n",
    "iplt.contourf(N_Pacific[0,0,:,:])\n",
    "#iplt.contourf(I_Pacific[0,0,:,:])\n",
    "\n",
    "plt.gca().coastlines()\n",
    "#plt.set_cmap('bwr')\n",
    "plt.set_cmap('brewer_Accent_08')\n",
    "\n",
    "plt.title('North Atlantic eNd',fontsize=17)\n",
    "\n",
    "#colour bar\n",
    "cb = plt.colorbar()\n",
    "#cb.ax.set_ylabel('log10')\n",
    "\n",
    "plt.grid(True)\n",
    "plt.tight_layout()\n",
    "#plt.figure(figsize=(3,4))\n",
    "plt.show()"
   ]
  },
  {
   "cell_type": "code",
   "execution_count": null,
   "metadata": {
    "collapsed": true,
    "deletable": true,
    "editable": true
   },
   "outputs": [],
   "source": []
  }
 ],
 "metadata": {
  "kernelspec": {
   "display_name": "Python 2",
   "language": "python",
   "name": "python2"
  },
  "language_info": {
   "codemirror_mode": {
    "name": "ipython",
    "version": 2
   },
   "file_extension": ".py",
   "mimetype": "text/x-python",
   "name": "python",
   "nbconvert_exporter": "python",
   "pygments_lexer": "ipython2",
   "version": "2.7.13"
  }
 },
 "nbformat": 4,
 "nbformat_minor": 2
}
