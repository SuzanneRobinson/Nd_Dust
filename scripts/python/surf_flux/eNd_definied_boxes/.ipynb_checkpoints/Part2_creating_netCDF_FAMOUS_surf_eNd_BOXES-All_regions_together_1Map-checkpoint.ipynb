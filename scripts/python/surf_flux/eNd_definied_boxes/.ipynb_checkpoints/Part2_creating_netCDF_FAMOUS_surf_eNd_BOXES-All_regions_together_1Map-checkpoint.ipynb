{
 "cells": [
  {
   "cell_type": "markdown",
   "metadata": {
    "deletable": true,
    "editable": true
   },
   "source": [
    "# Creating a netCDF file with eNd for atmospheric flux- distinct eNd boxes\n",
    "# Has all the regions on one variable -background \n",
    "netCDF file on a FAMOUS grid, containing eNd values across the ocean for the atmospheric flux\n",
    "setting whole ocean to a background eNd value of -8.0 \n",
    "\n",
    "Following Rempfer et al. 2011 dust boxes\n",
    "\n",
    "N.Atlantic > 50 N (-15.0)\n",
    "Atlantic  < or equal to 50 N (-12)\n",
    "N. Pacific > 44 N (-7.0)\n",
    "Indo-Pacific < or equal to 44 N (-8.0)\n",
    "Remainder (-8.0)\n",
    "\n",
    "creating a .nc file which i will translate into an ancil file \n",
    "from which I will create a mod to convert this into a dust flux of 144Nd and 143Nd\n",
    "\n",
    "based on examples from:\n",
    "https://iescoders.com/2017/10/03/writing-netcdf4-data-in-python/\n",
    "http://www.ceda.ac.uk/static/media/uploads/ncas-reading-2015/11_create_netcdf_python.pdf"
   ]
  },
  {
   "cell_type": "code",
   "execution_count": 1,
   "metadata": {
    "collapsed": false,
    "deletable": true,
    "editable": true
   },
   "outputs": [],
   "source": [
    "# load packages\n",
    "\n",
    "%matplotlib inline\n",
    "import matplotlib.pyplot as plt # side-stepping mpl backend\n",
    "import matplotlib.gridspec as gridspec # subplots\n",
    "from matplotlib import colors as mcolors\n",
    "\n",
    "import iris\n",
    "import iris.plot as iplt\n",
    "import iris.quickplot as qplt\n",
    "#plt.interactive(True)\n",
    "\n",
    "import numpy as np\n",
    "import pandas as pd\n",
    "\n",
    "import cf_units as cf\n"
   ]
  },
  {
   "cell_type": "markdown",
   "metadata": {
    "deletable": true,
    "editable": true
   },
   "source": [
    "## Importing a salinity netCDF and writing to a new netCDF with dust flux boxes"
   ]
  },
  {
   "cell_type": "code",
   "execution_count": 2,
   "metadata": {
    "collapsed": false,
    "deletable": true,
    "editable": true
   },
   "outputs": [
    {
     "name": "stdout",
     "output_type": "stream",
     "text": [
      "NETCDF4_CLASSIC\n",
      "[[[[ 0.  0.  0. ...,  0.  0.  0.]\n",
      "   [ 0.  0.  0. ...,  0.  0.  0.]\n",
      "   [ 0.  0.  0. ...,  0.  0.  0.]\n",
      "   ..., \n",
      "   [ 1.  1.  1. ...,  1.  1.  1.]\n",
      "   [ 1.  1.  1. ...,  1.  1.  1.]\n",
      "   [ 0.  0.  0. ...,  0.  0.  0.]]]]\n",
      "(1, 1, 73, 98)\n"
     ]
    }
   ],
   "source": [
    "from netCDF4 import Dataset\n",
    "\n",
    "#this is an nc file with salinity from which to base my template on\n",
    "f=Dataset('/nfs/see-fs-01_users/ee14s2r/scripts/python/surf_flux/qrparm.waterfix.famous.nc','r')\n",
    "\n",
    "#latitude in and longitude in\n",
    "latin = f.variables['latitude'][:]\n",
    "latsize=len(latin)\n",
    "lonin = f.variables['longitude'][:]\n",
    "lonsize=len(lonin)\n",
    "#time=f.variables['t'][:]\n",
    "\n",
    "#if xconv qrparm.waterfix.famous.nc then it will have the field number\n",
    "waterflux=f.variables['field672'][:]\n",
    "\n",
    "\n",
    "#Setting the background to nan\n",
    "LandMask1=np.where(waterflux>1.0E20,0.0, 1.0)\n",
    "\n",
    "\n",
    "\n",
    "#open a new netCDF file to create my file for inputing 144Nd surface flux\n",
    "dataset= Dataset('/nfs/see-fs-01_users/ee14s2r/working/surf_files/eNd_dust_mask/dust_boxes_eNd2.nc', 'w',\n",
    "                 format='NETCDF4_CLASSIC')\n",
    "\n",
    "print(dataset.file_format)\n",
    "print(LandMask1)\n",
    "print(np.shape(LandMask1))"
   ]
  },
  {
   "cell_type": "code",
   "execution_count": 3,
   "metadata": {
    "collapsed": false,
    "deletable": true,
    "editable": true
   },
   "outputs": [
    {
     "name": "stdout",
     "output_type": "stream",
     "text": [
      "[   0.      3.75    7.5    11.25   15.     18.75   22.5    26.25   30.\n",
      "   33.75   37.5    41.25   45.     48.75   52.5    56.25   60.     63.75\n",
      "   67.5    71.25   75.     78.75   82.5    86.25   90.     93.75   97.5\n",
      "  101.25  105.    108.75  112.5   116.25  120.    123.75  127.5   131.25\n",
      "  135.    138.75  142.5   146.25  150.    153.75  157.5   161.25  165.\n",
      "  168.75  172.5   176.25  180.    183.75  187.5   191.25  195.    198.75\n",
      "  202.5   206.25  210.    213.75  217.5   221.25  225.    228.75  232.5\n",
      "  236.25  240.    243.75  247.5   251.25  255.    258.75  262.5   266.25\n",
      "  270.    273.75  277.5   281.25  285.    288.75  292.5   296.25  300.\n",
      "  303.75  307.5   311.25  315.    318.75  322.5   326.25  330.    333.75\n",
      "  337.5   341.25  345.    348.75  352.5   356.25  360.    363.75]\n"
     ]
    }
   ],
   "source": [
    "print(lonin)"
   ]
  },
  {
   "cell_type": "code",
   "execution_count": 4,
   "metadata": {
    "collapsed": false,
    "deletable": true,
    "editable": true
   },
   "outputs": [
    {
     "name": "stdout",
     "output_type": "stream",
     "text": [
      "[-90.  -87.5 -85.  -82.5 -80.  -77.5 -75.  -72.5 -70.  -67.5 -65.  -62.5\n",
      " -60.  -57.5 -55.  -52.5 -50.  -47.5 -45.  -42.5 -40.  -37.5 -35.  -32.5\n",
      " -30.  -27.5 -25.  -22.5 -20.  -17.5 -15.  -12.5 -10.   -7.5  -5.   -2.5\n",
      "   0.    2.5   5.    7.5  10.   12.5  15.   17.5  20.   22.5  25.   27.5\n",
      "  30.   32.5  35.   37.5  40.   42.5  45.   47.5  50.   52.5  55.   57.5\n",
      "  60.   62.5  65.   67.5  70.   72.5  75.   77.5  80.   82.5  85.   87.5\n",
      "  90. ]\n"
     ]
    }
   ],
   "source": [
    "print(latin)"
   ]
  },
  {
   "cell_type": "code",
   "execution_count": 5,
   "metadata": {
    "collapsed": false,
    "deletable": true,
    "editable": true
   },
   "outputs": [],
   "source": [
    "#Define dimensions used for my variables\n",
    "depth = dataset.createDimension(\"depth\", 1)\n",
    "lat = dataset.createDimension(\"lat\", latsize)\n",
    "lon = dataset.createDimension(\"lon\", lonsize)\n",
    "time = dataset.createDimension(\"time\", 1)"
   ]
  },
  {
   "cell_type": "code",
   "execution_count": 6,
   "metadata": {
    "collapsed": false,
    "deletable": true,
    "editable": true
   },
   "outputs": [
    {
     "name": "stdout",
     "output_type": "stream",
     "text": [
      "98\n"
     ]
    }
   ],
   "source": [
    "#Checking dimensions\n",
    "print (len(lon))"
   ]
  },
  {
   "cell_type": "markdown",
   "metadata": {
    "deletable": true,
    "editable": true
   },
   "source": [
    "## Creating variables with two dimensions (lon and lat) "
   ]
  },
  {
   "cell_type": "code",
   "execution_count": 7,
   "metadata": {
    "collapsed": false,
    "deletable": true,
    "editable": true
   },
   "outputs": [],
   "source": [
    "#Creating a variable\n",
    "depth = dataset.createVariable(\"depth\", np.int32, (\"depth\",))\n",
    "depth.units = 'm'\n",
    "depth.positive= 'down'\n",
    "lat = dataset.createVariable(\"lat\", np.float32, (\"lat\",))\n",
    "lat.units = 'degrees_north'\n",
    "lat.point_spacing = 'even'\n",
    "lat.long_name = 'latitude'\n",
    "lon = dataset.createVariable(\"lon\", np.float32, (\"lon\",))\n",
    "lon.units = 'degrees_east'\n",
    "lon.point_spacing = 'even'\n",
    "lon.long_name = 'longitude'\n",
    "time = dataset.createVariable(\"time\", np.float64, (\"time\",))\n",
    "time.units = ('days since 0000-01-01 00:00.00') "
   ]
  },
  {
   "cell_type": "code",
   "execution_count": 8,
   "metadata": {
    "collapsed": false,
    "deletable": true,
    "editable": true
   },
   "outputs": [
    {
     "name": "stdout",
     "output_type": "stream",
     "text": [
      "-87.5\n"
     ]
    }
   ],
   "source": [
    "#writing data and slicing it to lon and lat\n",
    "lat[:]= latin\n",
    "lon[:]= lonin\n",
    "\n",
    "print(lat[1])"
   ]
  },
  {
   "cell_type": "code",
   "execution_count": null,
   "metadata": {
    "collapsed": true,
    "deletable": true,
    "editable": true
   },
   "outputs": [],
   "source": []
  },
  {
   "cell_type": "markdown",
   "metadata": {
    "deletable": true,
    "editable": true
   },
   "source": [
    "## Creating variable for Background eNd (-8)  "
   ]
  },
  {
   "cell_type": "code",
   "execution_count": 9,
   "metadata": {
    "collapsed": false,
    "deletable": true,
    "editable": true
   },
   "outputs": [],
   "source": [
    "#This np.where is changing values of salnity into background eNd values and then changing the land mask to 0\n",
    "waterflux3=np.where(waterflux>1.0E20,-8.0,-8.0)\n",
    "\n",
    "#Create the 2d-variable for backgrond and land mask\n",
    "background = dataset.createVariable(\"background\", np.float32, (\"time\",\"depth\",\"lat\",\"lon\"))\n",
    "#background.units = \"ratio\"\n",
    "background.long_name = \"background_Epsilon_Nd\"\n",
    "\n",
    "#filling the background eNd values\n",
    "background[:,:,:,:]=waterflux3"
   ]
  },
  {
   "cell_type": "markdown",
   "metadata": {
    "deletable": true,
    "editable": true
   },
   "source": [
    "## N Atlantic Boundaries "
   ]
  },
  {
   "cell_type": "code",
   "execution_count": 10,
   "metadata": {
    "collapsed": false,
    "deletable": true,
    "editable": true
   },
   "outputs": [],
   "source": [
    "#setting the boundaries for North Atlantic box and setting the eNd value\n",
    "\n",
    "#Assuming the top of greenland is 83 degrees North, then above that is the Arctic Ocean  \n",
    "NA_lat_bounds1 = np.logical_and(latin  >= 50.0, latin <= 80.0) \n",
    "NA_lon_bounds1 = np.logical_and(lonin  >= 270.0, lonin < 356.25) \n",
    "\n",
    "\n",
    "#Across England and Scandanavia\n",
    "NA_lat_bounds2 = np.logical_and(latin  >= 50.0, latin <= 80.0) \n",
    "NA_lon_bounds2 = np.logical_and(lonin  >= 356.25, lonin <= 363.75)\n",
    "\n",
    "#Across right of Scandanavia\n",
    "NA_lat_bounds3 = np.logical_and(latin  >= 50.0, latin <= 80.0) \n",
    "NA_lon_bounds3 = np.logical_and(lonin  >= 0.0, lonin <= 18.75)\n",
    "\n",
    "#Small box in tge top left inAlaska \n",
    "NA_lat_bounds4 = np.logical_and(latin  >= 50.0, latin <= 70.0) \n",
    "NA_lon_bounds4 = np.logical_and(lonin  >= 266.25, lonin <= 270.0)\n",
    "\n",
    "\n",
    "background[:,:,NA_lat_bounds1,NA_lon_bounds1]=-15.0\n",
    "background[:,:,NA_lat_bounds2,NA_lon_bounds2]=-15.0\n",
    "background[:,:,NA_lat_bounds3,NA_lon_bounds3]=-15.0\n",
    "background[:,:,NA_lat_bounds4,NA_lon_bounds4]=-15.0"
   ]
  },
  {
   "cell_type": "code",
   "execution_count": 11,
   "metadata": {
    "collapsed": false,
    "deletable": true,
    "editable": true
   },
   "outputs": [
    {
     "name": "stdout",
     "output_type": "stream",
     "text": [
      "[[-8. -8. -8. ..., -8. -8. -8.]\n",
      " [-8. -8. -8. ..., -8. -8. -8.]\n",
      " [-8. -8. -8. ..., -8. -8. -8.]\n",
      " ..., \n",
      " [-8. -8. -8. ..., -8. -8. -8.]\n",
      " [-8. -8. -8. ..., -8. -8. -8.]\n",
      " [-8. -8. -8. ..., -8. -8. -8.]]\n"
     ]
    }
   ],
   "source": [
    "print(background[0,0,:,:])"
   ]
  },
  {
   "cell_type": "markdown",
   "metadata": {
    "deletable": true,
    "editable": true
   },
   "source": [
    "## Atlantic Boundaries"
   ]
  },
  {
   "cell_type": "code",
   "execution_count": 12,
   "metadata": {
    "collapsed": true,
    "deletable": true,
    "editable": true
   },
   "outputs": [],
   "source": [
    "#setting the boundaries for Atlantic box and setting the eNd value\n",
    "\n",
    "#Bottom of England to the top of Africa\n",
    "A_lat_bounds1 = np.logical_and(latin  >= 25.0, latin <= 50.0) \n",
    "A_lon_bounds1 = np.logical_and(lonin  > 270.0, lonin < 360.0) \n",
    "\n",
    "#Top of Africa, down to middle of South America\n",
    "A_lat_bounds2 = np.logical_and(latin  >= -35.0, latin < 25.0) \n",
    "A_lon_bounds2 = np.logical_and(lonin  >= 292.5, lonin <= 363.75) \n",
    "\n",
    "#Reaching to the bottom tip of Africa\n",
    "A_lat_bounds3 = np.logical_and(latin  >= -35.0, latin <= 15.0) \n",
    "A_lon_bounds3 = np.logical_and(lonin  >= 0.0, lonin <= 18.75) \n",
    "\n",
    "#Central America\n",
    "#The lower bound for latin -> check when on FAMOUS grid as it is very close!!!\n",
    "A_lat_bounds4 = np.logical_and(latin  >=10.0, latin <= 22.5) \n",
    "A_lon_bounds4 = np.logical_and(lonin  > 270.0, lonin <= 288.75)\n",
    "\n",
    "#North America - tiny box\n",
    "A_lat_bounds5 = np.logical_and(latin  >=17.5, latin <= 30.0) \n",
    "A_lon_bounds5 = np.logical_and(lonin  >= 258.75, lonin <= 270.0)\n",
    "\n",
    "background[:,:,A_lat_bounds1,A_lon_bounds1]=-12.0\n",
    "background[:,:,A_lat_bounds2,A_lon_bounds2]=-12.0\n",
    "background[:,:,A_lat_bounds3,A_lon_bounds3]=-12.0\n",
    "background[:,:,A_lat_bounds4,A_lon_bounds4]=-12.0\n",
    "background[:,:,A_lat_bounds5,A_lon_bounds5]=-12.0"
   ]
  },
  {
   "cell_type": "code",
   "execution_count": 13,
   "metadata": {
    "collapsed": false,
    "deletable": true,
    "editable": true
   },
   "outputs": [
    {
     "name": "stdout",
     "output_type": "stream",
     "text": [
      "50.0\n",
      "300.0\n"
     ]
    }
   ],
   "source": [
    "#Checking that it is not including 50.0 degrees latitude\n",
    "#print different values to see wheneach dimension makes the lat or lon i want to look at\n",
    "# ie (latin[56]= 50 degrees north)\n",
    "print(latin[56])\n",
    "print(lonin[80])\n",
    "\n",
    "#print(N_Atlantic[:,:,57,80])"
   ]
  },
  {
   "cell_type": "markdown",
   "metadata": {
    "deletable": true,
    "editable": true
   },
   "source": [
    "## North Pacific boundaries "
   ]
  },
  {
   "cell_type": "code",
   "execution_count": 14,
   "metadata": {
    "collapsed": false,
    "deletable": true,
    "editable": true
   },
   "outputs": [],
   "source": [
    "#setting the boundaries for North Pacific box and setting the eNd value\n",
    "\n",
    "#Assuming the Artic ocean starts at 65.25 degees North\n",
    "NP_lat_bounds1 = np.logical_and(latin  >= 45.0, latin <= 67.5) \n",
    "NP_lon_bounds1 = np.logical_and(lonin  >= 120.0, lonin <= 262.5) \n",
    "\n",
    "background[:,:,NP_lat_bounds1,NP_lon_bounds1]=-5.0\n"
   ]
  },
  {
   "cell_type": "code",
   "execution_count": 15,
   "metadata": {
    "collapsed": false,
    "deletable": true,
    "editable": true
   },
   "outputs": [],
   "source": [
    "#print(N_Pacific[:,:,:,:])"
   ]
  },
  {
   "cell_type": "markdown",
   "metadata": {
    "deletable": true,
    "editable": true
   },
   "source": [
    "## IndoPacific Boundaires"
   ]
  },
  {
   "cell_type": "code",
   "execution_count": 16,
   "metadata": {
    "collapsed": false,
    "deletable": true,
    "editable": true
   },
   "outputs": [],
   "source": [
    "#setting the boundaries for Indo-Pacific box and setting the eNd value\n",
    "\n",
    "#Remfper did to 44 lat but in FAMOUS the grid boxes go from 42.5 N to 45N\n",
    "IP_lat_bounds1 = np.logical_and(latin  >= -35.0, latin <= 45.0) \n",
    "IP_lon_bounds1 = np.logical_and(lonin  >= 120.0, lonin < 262.5) \n",
    "\n",
    "IP_lat_bounds2 = np.logical_and(latin  >= -35.0, latin <= 30.0) \n",
    "IP_lon_bounds2 = np.logical_and(lonin  >= 30.0, lonin <= 116.25) \n",
    "\n",
    "IP_lat_bounds3 = np.logical_and(latin  >= -35.0, latin <= 5.0) \n",
    "IP_lon_bounds3 = np.logical_and(lonin  >= 262.5, lonin <= 292.5) \n",
    "\n",
    "IP_lat_bounds4 = np.logical_and(latin  >= 7.5, latin <= 15.0) \n",
    "IP_lon_bounds4 = np.logical_and(lonin  >= 262.5, lonin <= 273.75) \n",
    "\n",
    "IP_lat_bounds5 = np.logical_and(latin  >= 7.5, latin < 10.0) \n",
    "IP_lon_bounds5 = np.logical_and(lonin  >= 277.5, lonin <= 281.25) \n",
    "\n",
    "background[:,:,IP_lat_bounds1,IP_lon_bounds1]=-7.0\n",
    "background[:,:,IP_lat_bounds2,IP_lon_bounds2]=-7.0\n",
    "background[:,:,IP_lat_bounds3,IP_lon_bounds3]=-7.0\n",
    "background[:,:,IP_lat_bounds4,IP_lon_bounds4]=-7.0\n",
    "background[:,:,IP_lat_bounds5,IP_lon_bounds5]=-7.0"
   ]
  },
  {
   "cell_type": "code",
   "execution_count": 17,
   "metadata": {
    "collapsed": false,
    "deletable": true,
    "editable": true
   },
   "outputs": [
    {
     "name": "stdout",
     "output_type": "stream",
     "text": [
      "depth int32 (u'depth',) (1,)\n",
      "lat float32 (u'lat',) (73,)\n",
      "lon float32 (u'lon',) (98,)\n",
      "time float64 (u'time',) (1,)\n",
      "background float32 (u'time', u'depth', u'lat', u'lon') (1, 1, 73, 98)\n"
     ]
    }
   ],
   "source": [
    "#Accessing and checking all the variables\n",
    "for varname in dataset.variables.keys():\n",
    "    var = dataset.variables[varname]\n",
    "    print varname, var.dtype, var.dimensions, var.shape #, var.units"
   ]
  },
  {
   "cell_type": "code",
   "execution_count": 18,
   "metadata": {
    "collapsed": false,
    "deletable": true,
    "editable": true
   },
   "outputs": [],
   "source": [
    "#This np.where is changing values of salnity into background eNd values and then changing the land mask to 0\n",
    "#waterflux3=np.where(waterflux>1.0E20,-8.0,-8.0)\n",
    "\n",
    "#Create the 2d-variable forland mask\n",
    "LandMask = dataset.createVariable(\"LandMask\", np.float32, (\"time\",\"depth\",\"lat\",\"lon\"))\n",
    "#background.units = \"ratio\"\n",
    "LandMask.long_name = \"LandMask\"\n",
    "\n",
    "#filling the background eNd values\n",
    "LandMask[:,:,:,:]=LandMask1"
   ]
  },
  {
   "cell_type": "code",
   "execution_count": 19,
   "metadata": {
    "collapsed": true,
    "deletable": true,
    "editable": true
   },
   "outputs": [],
   "source": [
    "dataset.close()"
   ]
  }
 ],
 "metadata": {
  "kernelspec": {
   "display_name": "Python 2",
   "language": "python",
   "name": "python2"
  },
  "language_info": {
   "codemirror_mode": {
    "name": "ipython",
    "version": 2
   },
   "file_extension": ".py",
   "mimetype": "text/x-python",
   "name": "python",
   "nbconvert_exporter": "python",
   "pygments_lexer": "ipython2",
   "version": "2.7.13"
  }
 },
 "nbformat": 4,
 "nbformat_minor": 2
}
