{
 "cells": [
  {
   "cell_type": "markdown",
   "metadata": {
    "deletable": true,
    "editable": true
   },
   "source": [
    "# Creating a netCDF file with eNd for atmospheric flux- distinct eNd boxes\n",
    "# Part 3- > converting the dust map of all the dust regions from the land mask being zero to being nan\n",
    "netCDF file on a FAMOUS grid, containing eNd values across the ocean for the atmospheric flux\n",
    "setting whole ocean to a background eNd value of -8.0 \n",
    "\n",
    "Following Rempfer et al. 2011 dust boxes\n",
    "\n",
    "North Atlantic >50 °N eNd = -15\n",
    "Atlantic < or equal to 50 °N eNd = -12\n",
    "North Pacific >44 °N eNd = -5\n",
    "Indopacific < or equal to 44 °N eNd = -7\n",
    "Remainder eNd= -8\n",
    "\n",
    "creating a .nc file which i will translate into an ancil file \n",
    "from which I will create a mod to convert this into a dust flux of 144Nd and 143Nd\n",
    "\n",
    "based on examples from:\n",
    "https://iescoders.com/2017/10/03/writing-netcdf4-data-in-python/\n",
    "http://www.ceda.ac.uk/static/media/uploads/ncas-reading-2015/11_create_netcdf_python.pdf"
   ]
  },
  {
   "cell_type": "code",
   "execution_count": 1,
   "metadata": {
    "collapsed": false,
    "deletable": true,
    "editable": true
   },
   "outputs": [],
   "source": [
    "# load packages\n",
    "\n",
    "%matplotlib inline\n",
    "import matplotlib.pyplot as plt # side-stepping mpl backend\n",
    "import matplotlib.gridspec as gridspec # subplots\n",
    "from matplotlib import colors as mcolors\n",
    "\n",
    "import iris\n",
    "import iris.plot as iplt\n",
    "import iris.quickplot as qplt\n",
    "#plt.interactive(True)\n",
    "\n",
    "import numpy as np\n",
    "import pandas as pd\n",
    "\n",
    "import cf_units as cf\n"
   ]
  },
  {
   "cell_type": "markdown",
   "metadata": {
    "deletable": true,
    "editable": true
   },
   "source": [
    "## Importing a salinity netCDF and writing to a new netCDF with dust flux boxes"
   ]
  },
  {
   "cell_type": "code",
   "execution_count": 2,
   "metadata": {
    "collapsed": false,
    "deletable": true,
    "editable": true
   },
   "outputs": [],
   "source": [
    "from netCDF4 import Dataset\n",
    "\n",
    "#this is an nc file with salinity from which to base my template on\n",
    "f=Dataset('/nfs/see-fs-01_users/ee14s2r/working/surf_files/eNd_dust_mask/dust_boxes_eNd_LandMask.nc','r')\n",
    "\n",
    "#latitude in and longitude in\n",
    "latin = f.variables['lat'][:]\n",
    "latsize=len(latin)\n",
    "lonin = f.variables['lon'][:]\n",
    "lonsize=len(lonin)\n",
    "time=f.variables['time'][:]\n",
    "\n",
    "#if xconv qrparm.waterfix.famous.nc then it will have the field number\n",
    "waterflux=f.variables['final'][:]\n",
    "\n",
    "\n",
    "#Setting the background to nan\n",
    "#LandMask1=np.where(final<0.5,np.nan)\n",
    "\n",
    "\n",
    "\n",
    "#open a new netCDF file to create my file for inputing 144Nd surface flux\n",
    "dataset= Dataset('/nfs/see-fs-01_users/ee14s2r/working/surf_files/eNd_dust_mask/dust_boxes_final.nc', 'w',\n",
    "                 format='NETCDF4_CLASSIC')\n",
    "\n",
    "#print(dataset.file_format)\n",
    "#print(LandMask1)\n",
    "#print(np.shape(LandMask1))"
   ]
  },
  {
   "cell_type": "code",
   "execution_count": 3,
   "metadata": {
    "collapsed": false,
    "deletable": true,
    "editable": true
   },
   "outputs": [
    {
     "name": "stdout",
     "output_type": "stream",
     "text": [
      "OrderedDict([(u'depth', <type 'netCDF4._netCDF4.Dimension'>: name = 'depth', size = 1\n",
      "), (u'time', <type 'netCDF4._netCDF4.Dimension'>: name = 'time', size = 1\n",
      "), (u'lat', <type 'netCDF4._netCDF4.Dimension'>: name = 'lat', size = 73\n",
      "), (u'lon', <type 'netCDF4._netCDF4.Dimension'>: name = 'lon', size = 98\n",
      ")])\n"
     ]
    }
   ],
   "source": [
    "print(f.dimensions)"
   ]
  },
  {
   "cell_type": "code",
   "execution_count": 4,
   "metadata": {
    "collapsed": false,
    "deletable": true,
    "editable": true
   },
   "outputs": [
    {
     "name": "stdout",
     "output_type": "stream",
     "text": [
      "[-90.  -87.5 -85.  -82.5 -80.  -77.5 -75.  -72.5 -70.  -67.5 -65.  -62.5\n",
      " -60.  -57.5 -55.  -52.5 -50.  -47.5 -45.  -42.5 -40.  -37.5 -35.  -32.5\n",
      " -30.  -27.5 -25.  -22.5 -20.  -17.5 -15.  -12.5 -10.   -7.5  -5.   -2.5\n",
      "   0.    2.5   5.    7.5  10.   12.5  15.   17.5  20.   22.5  25.   27.5\n",
      "  30.   32.5  35.   37.5  40.   42.5  45.   47.5  50.   52.5  55.   57.5\n",
      "  60.   62.5  65.   67.5  70.   72.5  75.   77.5  80.   82.5  85.   87.5\n",
      "  90. ]\n"
     ]
    }
   ],
   "source": [
    "print(latin)"
   ]
  },
  {
   "cell_type": "code",
   "execution_count": 5,
   "metadata": {
    "collapsed": false,
    "deletable": true,
    "editable": true
   },
   "outputs": [],
   "source": [
    "#Define dimensions used for my variables\n",
    "depth = dataset.createDimension(\"depth\", 1)\n",
    "lat = dataset.createDimension(\"lat\", latsize)\n",
    "lon = dataset.createDimension(\"lon\", lonsize)\n",
    "time = dataset.createDimension(\"time\", 1)"
   ]
  },
  {
   "cell_type": "code",
   "execution_count": 6,
   "metadata": {
    "collapsed": false,
    "deletable": true,
    "editable": true
   },
   "outputs": [
    {
     "name": "stdout",
     "output_type": "stream",
     "text": [
      "98\n"
     ]
    }
   ],
   "source": [
    "#Checking dimensions\n",
    "print (len(lon))"
   ]
  },
  {
   "cell_type": "markdown",
   "metadata": {
    "deletable": true,
    "editable": true
   },
   "source": [
    "## Creating variables with two dimensions (lon and lat) "
   ]
  },
  {
   "cell_type": "code",
   "execution_count": 7,
   "metadata": {
    "collapsed": false,
    "deletable": true,
    "editable": true
   },
   "outputs": [],
   "source": [
    "#Creating a variable\n",
    "depth = dataset.createVariable(\"depth\", np.int32, (\"depth\",))\n",
    "depth.units = 'm'\n",
    "depth.positive= 'down'\n",
    "lat = dataset.createVariable(\"lat\", np.float32, (\"lat\",))\n",
    "lat.units = 'degrees_north'\n",
    "lat.point_spacing = 'even'\n",
    "lat.long_name = 'latitude'\n",
    "lon = dataset.createVariable(\"lon\", np.float32, (\"lon\",))\n",
    "lon.units = 'degrees_east'\n",
    "lon.point_spacing = 'even'\n",
    "lon.long_name = 'longitude'\n",
    "time = dataset.createVariable(\"time\", np.float64, (\"time\",))\n",
    "time.units = ('days since 0000-01-01 00:00.00') "
   ]
  },
  {
   "cell_type": "code",
   "execution_count": 8,
   "metadata": {
    "collapsed": false,
    "deletable": true,
    "editable": true
   },
   "outputs": [
    {
     "name": "stdout",
     "output_type": "stream",
     "text": [
      "-87.5\n"
     ]
    }
   ],
   "source": [
    "#writing data and slicing it to lon and lat\n",
    "lat[:]= latin\n",
    "lon[:]= lonin\n",
    "\n",
    "print(lat[1])"
   ]
  },
  {
   "cell_type": "code",
   "execution_count": null,
   "metadata": {
    "collapsed": true,
    "deletable": true,
    "editable": true
   },
   "outputs": [],
   "source": []
  },
  {
   "cell_type": "markdown",
   "metadata": {
    "deletable": true,
    "editable": true
   },
   "source": [
    "## Creating variable for Background eNd (-8)  "
   ]
  },
  {
   "cell_type": "code",
   "execution_count": 9,
   "metadata": {
    "collapsed": false,
    "deletable": true,
    "editable": true
   },
   "outputs": [],
   "source": [
    "#This np.where is changing values of salnity into background eNd values and then changing the land mask to 0\n",
    "#waterflux3=np.where(waterflux>1.0E20,-8.0,-8.0)\n",
    "\n",
    "#Create the 2d-variable for backgrond and land mask\n",
    "background = dataset.createVariable(\"background\", np.float32, (\"time\",\"depth\",\"lat\",\"lon\"))\n",
    "#background.units = \"ratio\"\n",
    "background.long_name = \"background_Epsilon_Nd\"\n",
    "\n",
    "#filling the background eNd values\n",
    "background[:,:,:,:]=waterflux"
   ]
  },
  {
   "cell_type": "code",
   "execution_count": 10,
   "metadata": {
    "collapsed": false,
    "deletable": true,
    "editable": true
   },
   "outputs": [],
   "source": [
    "\n",
    "#background[background==0.0]= np.nan\n",
    "\n",
    "#background2=np.where(background==0.0,'nan', background)"
   ]
  },
  {
   "cell_type": "code",
   "execution_count": 11,
   "metadata": {
    "collapsed": false,
    "deletable": true,
    "editable": true
   },
   "outputs": [],
   "source": [
    "#backgroundNaN = background\n",
    "\n",
    "#backgroundNaN[backgroundNaN== 0.0] = np.nan\n",
    "\n",
    "background2= np.where(background[:,:,:,:]==0.0,np.nan,background)"
   ]
  },
  {
   "cell_type": "code",
   "execution_count": 12,
   "metadata": {
    "collapsed": true,
    "deletable": true,
    "editable": true
   },
   "outputs": [],
   "source": [
    "#This np.where is changing values of salnity into background eNd values and then changing the land mask to 0\n",
    "#waterflux3=np.where(waterflux>1.0E20,-8.0,-8.0)\n",
    "\n",
    "#Create the 2d-variable forland mask\n",
    "eNd_nan = dataset.createVariable(\"eNd_nan\", np.float32, (\"time\",\"depth\",\"lat\",\"lon\"))\n",
    "#background.units = \"ratio\"\n",
    "eNd_nan.long_name = \"Dust_Regions_eNd\"\n",
    "\n",
    "#filling the background eNd values\n",
    "eNd_nan[:,:,:,:]=background2"
   ]
  },
  {
   "cell_type": "code",
   "execution_count": 13,
   "metadata": {
    "collapsed": true,
    "deletable": true,
    "editable": true
   },
   "outputs": [],
   "source": [
    "dataset.close()"
   ]
  },
  {
   "cell_type": "code",
   "execution_count": null,
   "metadata": {
    "collapsed": false,
    "deletable": true,
    "editable": true
   },
   "outputs": [],
   "source": []
  },
  {
   "cell_type": "code",
   "execution_count": null,
   "metadata": {
    "collapsed": true,
    "deletable": true,
    "editable": true
   },
   "outputs": [],
   "source": []
  }
 ],
 "metadata": {
  "kernelspec": {
   "display_name": "Python 2",
   "language": "python",
   "name": "python2"
  },
  "language_info": {
   "codemirror_mode": {
    "name": "ipython",
    "version": 2
   },
   "file_extension": ".py",
   "mimetype": "text/x-python",
   "name": "python",
   "nbconvert_exporter": "python",
   "pygments_lexer": "ipython2",
   "version": "2.7.13"
  }
 },
 "nbformat": 4,
 "nbformat_minor": 2
}
