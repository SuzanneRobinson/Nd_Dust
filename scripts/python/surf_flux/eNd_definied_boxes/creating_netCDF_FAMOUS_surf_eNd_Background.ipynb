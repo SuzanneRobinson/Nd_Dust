{
 "cells": [
  {
   "cell_type": "markdown",
   "metadata": {
    "deletable": true,
    "editable": true
   },
   "source": [
    "# Creating a netCDF file with eNd for atmospheric flux\n",
    "netCDF file on a FAMOUS grid, containing eNd values across the ocean for the atmospheric flux\n",
    "just setting whole ocean to a background eNd value of -8.0 \n",
    "\n",
    "creating a .nc file which i will translate into an ancil file \n",
    "from which I will create a mod to convert this into a dust flux of 144Nd and 143Nd\n",
    "\n",
    "based on examples from:\n",
    "https://iescoders.com/2017/10/03/writing-netcdf4-data-in-python/\n",
    "http://www.ceda.ac.uk/static/media/uploads/ncas-reading-2015/11_create_netcdf_python.pdf"
   ]
  },
  {
   "cell_type": "code",
   "execution_count": 1,
   "metadata": {
    "collapsed": false,
    "deletable": true,
    "editable": true
   },
   "outputs": [],
   "source": [
    "# load packages\n",
    "\n",
    "%matplotlib inline\n",
    "import matplotlib.pyplot as plt # side-stepping mpl backend\n",
    "import matplotlib.gridspec as gridspec # subplots\n",
    "from matplotlib import colors as mcolors\n",
    "\n",
    "import iris\n",
    "import iris.plot as iplt\n",
    "import iris.quickplot as qplt\n",
    "#plt.interactive(True)\n",
    "\n",
    "import numpy as np\n",
    "import pandas as pd"
   ]
  },
  {
   "cell_type": "code",
   "execution_count": 2,
   "metadata": {
    "collapsed": false,
    "deletable": true,
    "editable": true
   },
   "outputs": [
    {
     "name": "stdout",
     "output_type": "stream",
     "text": [
      "[[[[ 0.  0.  0. ...,  0.  0.  0.]\n",
      "   [ 0.  0.  0. ...,  0.  0.  0.]\n",
      "   [ 0.  0.  0. ...,  0.  0.  0.]\n",
      "   ..., \n",
      "   [-8. -8. -8. ..., -8. -8. -8.]\n",
      "   [-8. -8. -8. ..., -8. -8. -8.]\n",
      "   [ 0.  0.  0. ...,  0.  0.  0.]]]]\n",
      "(1, 1, 73, 98)\n",
      "NETCDF4_CLASSIC\n"
     ]
    }
   ],
   "source": [
    "from netCDF4 import Dataset\n",
    "\n",
    "#this is an nc file with salinity from which to base my template on\n",
    "f=Dataset('/nfs/see-fs-01_users/ee14s2r/scripts/python/surf_flux/qrparm.waterfix.famous.nc','r')\n",
    "\n",
    "#latitude in and longitude in\n",
    "latin = f.variables['latitude'][:]\n",
    "latsize=len(latin)\n",
    "lonin = f.variables['longitude'][:]\n",
    "lonsize=len(lonin)\n",
    "\n",
    "#if xconv qrparm.waterfix.famous.nc then it will have the field number\n",
    "waterflux=f.variables['field672'][:]\n",
    "#This np.where is changing values of salnity into background eNd values and then changing the land mask to 0\n",
    "waterflux2=np.where(waterflux>1.0E20,0.0,-8.0)\n",
    "\n",
    "print(waterflux2)\n",
    "print(np.shape(waterflux2))\n",
    "\n",
    "#open a new netCDF file to create my file for inputing 144Nd surface flux\n",
    "dataset= Dataset('/nfs/see-fs-01_users/ee14s2r/working/surf_files/eNd_dust_mask/dust_flux_background_eNd.nc', 'w',\n",
    "                 format='NETCDF4_CLASSIC')\n",
    "\n",
    "print(dataset.file_format)"
   ]
  },
  {
   "cell_type": "code",
   "execution_count": 3,
   "metadata": {
    "collapsed": false,
    "deletable": true,
    "editable": true
   },
   "outputs": [],
   "source": [
    "#Define dimensions used for my variables\n",
    "#As i am imposing a surface flux then i just want to add it at depth 1\n",
    "depth = dataset.createDimension(\"depth\", 1)\n",
    "lat = dataset.createDimension(\"lat\", latsize)\n",
    "lon = dataset.createDimension(\"lon\", lonsize)\n",
    "time = dataset.createDimension(\"time\", 1)"
   ]
  },
  {
   "cell_type": "code",
   "execution_count": 4,
   "metadata": {
    "collapsed": false,
    "deletable": true,
    "editable": true
   },
   "outputs": [
    {
     "name": "stdout",
     "output_type": "stream",
     "text": [
      "98\n",
      "False\n"
     ]
    }
   ],
   "source": [
    "#Checking dimensions\n",
    "print (len(lon))\n",
    "print (time.isunlimited())"
   ]
  },
  {
   "cell_type": "code",
   "execution_count": 5,
   "metadata": {
    "collapsed": false,
    "deletable": true,
    "editable": true
   },
   "outputs": [
    {
     "name": "stdout",
     "output_type": "stream",
     "text": [
      "eNd144\n"
     ]
    }
   ],
   "source": [
    "#Creating a variable\n",
    "#Define variables with the same names as dimensions\n",
    "#Create coordinate variables for 4-dimensions\n",
    "\n",
    "depth = dataset.createVariable(\"depth\", np.int32, (\"depth\",))\n",
    "depth.units = 'm'\n",
    "depth.positive= 'down'\n",
    "lat = dataset.createVariable(\"lat\", np.float32, (\"lat\",))\n",
    "lat.units = 'degrees_north'\n",
    "lat.point_spacing = 'even'\n",
    "lat.long_name = 'latitude'\n",
    "lon = dataset.createVariable(\"lon\", np.float32, (\"lon\",))\n",
    "lon.units = 'degrees_east'\n",
    "lon.point_spacing = 'even'\n",
    "lon.long_name = 'longitude'\n",
    "time = dataset.createVariable(\"time\", np.float64, (\"time\",))\n",
    "time.units = ('days since 0000-01-01 00:00.00') \n",
    "\n",
    "#Create the 4d-variable for eNd\n",
    "eNd = dataset.createVariable(\"eNd\", np.float32, (\"time\",\"depth\",\"lat\",\"lon\"))\n",
    "eNd.units = 'ratio'\n",
    "print('eNd144')"
   ]
  },
  {
   "cell_type": "code",
   "execution_count": 6,
   "metadata": {
    "collapsed": false,
    "deletable": true,
    "editable": true
   },
   "outputs": [
    {
     "name": "stdout",
     "output_type": "stream",
     "text": [
      "depth int32 (u'depth',) (1,)\n",
      "lat float32 (u'lat',) (73,)\n",
      "lon float32 (u'lon',) (98,)\n",
      "time float64 (u'time',) (1,)\n",
      "eNd float32 (u'time', u'depth', u'lat', u'lon') (1, 1, 73, 98)\n"
     ]
    }
   ],
   "source": [
    "#Accessing and checking variables\n",
    "for varname in dataset.variables.keys():\n",
    "    var = dataset.variables[varname]\n",
    "    print varname, var.dtype, var.dimensions, var.shape"
   ]
  },
  {
   "cell_type": "code",
   "execution_count": 7,
   "metadata": {
    "collapsed": false,
    "deletable": true,
    "editable": true
   },
   "outputs": [
    {
     "name": "stdout",
     "output_type": "stream",
     "text": [
      "(1, 1, 73, 98)\n",
      "(1, 1, 73, 98)\n",
      "<type 'netCDF4._netCDF4.Variable'>\n",
      "float32 eNd(time, depth, lat, lon)\n",
      "    units: ratio\n",
      "unlimited dimensions: \n",
      "current shape = (1, 1, 73, 98)\n",
      "filling on, default _FillValue of 9.96920996839e+36 used\n",
      "\n"
     ]
    }
   ],
   "source": [
    "#Writing data, slicing it into lon and lat\n",
    "\n",
    "lat[:] = latin\n",
    "lon[:] = lonin\n",
    "eNd[:,:,:,:]=waterflux2\n",
    "print(np.shape(eNd))\n",
    "print(np.shape(waterflux2))\n",
    "print(eNd)\n"
   ]
  },
  {
   "cell_type": "code",
   "execution_count": 8,
   "metadata": {
    "collapsed": false,
    "deletable": true,
    "editable": true
   },
   "outputs": [],
   "source": [
    "#Define a box in the North Atlantic and give it a value of eNd=-15.0\n",
    "#Defining my North Atlantic box as : \n",
    "#latitude (degrees north): [-90 - -50]\n",
    "#longitude (degrees east): [127.5 - 251.25]\n",
    "\n",
    "#N_Atlantic="
   ]
  },
  {
   "cell_type": "code",
   "execution_count": 9,
   "metadata": {
    "collapsed": true,
    "deletable": true,
    "editable": true
   },
   "outputs": [],
   "source": [
    "dataset.close()"
   ]
  }
 ],
 "metadata": {
  "kernelspec": {
   "display_name": "Python 2",
   "language": "python",
   "name": "python2"
  },
  "language_info": {
   "codemirror_mode": {
    "name": "ipython",
    "version": 2
   },
   "file_extension": ".py",
   "mimetype": "text/x-python",
   "name": "python",
   "nbconvert_exporter": "python",
   "pygments_lexer": "ipython2",
   "version": "2.7.13"
  }
 },
 "nbformat": 4,
 "nbformat_minor": 2
}
